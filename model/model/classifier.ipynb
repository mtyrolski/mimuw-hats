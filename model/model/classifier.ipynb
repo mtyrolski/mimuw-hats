{
  "nbformat": 4,
  "nbformat_minor": 0,
  "metadata": {
    "colab": {
      "name": "classifier2.ipynb",
      "provenance": [],
      "collapsed_sections": [],
      "toc_visible": true
    },
    "kernelspec": {
      "name": "python3",
      "display_name": "Python 3"
    },
    "accelerator": "GPU"
  },
  "cells": [
    {
      "cell_type": "markdown",
      "metadata": {
        "id": "Ph0hT7d9lpAp",
        "colab_type": "text"
      },
      "source": [
        "# Paths"
      ]
    },
    {
      "cell_type": "code",
      "metadata": {
        "id": "4lhyppPQhN7i",
        "colab_type": "code",
        "colab": {}
      },
      "source": [
        "PATH_WORKING_SPACE = \"/content/gdrive/My Drive/Colab Notebooks/\""
      ],
      "execution_count": 0,
      "outputs": []
    },
    {
      "cell_type": "markdown",
      "metadata": {
        "id": "RZ1QkSpPmXMx",
        "colab_type": "text"
      },
      "source": [
        ""
      ]
    },
    {
      "cell_type": "code",
      "metadata": {
        "id": "xw5Dsun3htfK",
        "colab_type": "code",
        "outputId": "60ae1445-3182-429b-b7a8-d9fae8bd319e",
        "colab": {
          "base_uri": "https://localhost:8080/",
          "height": 34
        }
      },
      "source": [
        "PATH_SEQUENCE = PATH_WORKING_SPACE + \"sequence.ipynb\"\n",
        "print(PATH_SEQUENCE)"
      ],
      "execution_count": 2,
      "outputs": [
        {
          "output_type": "stream",
          "text": [
            "/content/gdrive/My Drive/Colab Notebooks/sequence.ipynb\n"
          ],
          "name": "stdout"
        }
      ]
    },
    {
      "cell_type": "markdown",
      "metadata": {
        "id": "Qxbuih4Ml0Bs",
        "colab_type": "text"
      },
      "source": [
        "# Mount drive & run additional scripts"
      ]
    },
    {
      "cell_type": "code",
      "metadata": {
        "id": "3Bv7M_a0XCp5",
        "colab_type": "code",
        "outputId": "07dcc973-7c84-41de-8ca7-84e9286ff87f",
        "colab": {
          "base_uri": "https://localhost:8080/",
          "height": 123
        }
      },
      "source": [
        "from google.colab import drive\n",
        "drive.mount('/content/gdrive/')"
      ],
      "execution_count": 3,
      "outputs": [
        {
          "output_type": "stream",
          "text": [
            "Go to this URL in a browser: https://accounts.google.com/o/oauth2/auth?client_id=947318989803-6bn6qk8qdgf4n4g3pfee6491hc0brc4i.apps.googleusercontent.com&redirect_uri=urn%3aietf%3awg%3aoauth%3a2.0%3aoob&response_type=code&scope=email%20https%3a%2f%2fwww.googleapis.com%2fauth%2fdocs.test%20https%3a%2f%2fwww.googleapis.com%2fauth%2fdrive%20https%3a%2f%2fwww.googleapis.com%2fauth%2fdrive.photos.readonly%20https%3a%2f%2fwww.googleapis.com%2fauth%2fpeopleapi.readonly\n",
            "\n",
            "Enter your authorization code:\n",
            "··········\n",
            "Mounted at /content/gdrive/\n"
          ],
          "name": "stdout"
        }
      ]
    },
    {
      "cell_type": "code",
      "metadata": {
        "id": "NXMfd6CP-48W",
        "colab_type": "code",
        "colab": {
          "base_uri": "https://localhost:8080/",
          "height": 34
        },
        "outputId": "ec58c05a-bfd3-4ea1-d04a-de080ff62c27"
      },
      "source": [
        "from keras.preprocessing.image import ImageDataGenerator"
      ],
      "execution_count": 4,
      "outputs": [
        {
          "output_type": "stream",
          "text": [
            "Using TensorFlow backend.\n"
          ],
          "name": "stderr"
        }
      ]
    },
    {
      "cell_type": "code",
      "metadata": {
        "id": "CeRRZUjGd8HB",
        "colab_type": "code",
        "colab": {}
      },
      "source": [
        "def load(path, input_shape):\n",
        "\n",
        "    datagen = ImageDataGenerator(\n",
        "        rotation_range=20,\n",
        "        width_shift_range=0.1,\n",
        "        height_shift_range=0.1,\n",
        "        shear_range=0.1,\n",
        "        zoom_range=0.2,\n",
        "        horizontal_flip=True,\n",
        "        channel_shift_range=0.3,\n",
        "        brightness_range= [0.7, 1.3],\n",
        "        fill_mode='nearest')\n",
        "    BATCH_SIZE=32\n",
        "    print('batchsize', BATCH_SIZE)\n",
        "    train_it = datagen.flow_from_directory('{0}train'.format(path),\n",
        "                                           class_mode='categorical',\n",
        "                                           target_size=input_shape,\n",
        "                                           batch_size=BATCH_SIZE,\n",
        "                                           color_mode='rgb',\n",
        "                                           classes=['hats', 'nothats'])\n",
        "    val_it = datagen.flow_from_directory('{0}val'.format(path),\n",
        "                                          class_mode='categorical',\n",
        "                                          target_size=input_shape,\n",
        "                                          batch_size=BATCH_SIZE,\n",
        "                                          color_mode='rgb',\n",
        "                                          classes=['hats', 'nothats'])\n",
        "\n",
        "    return train_it, val_it"
      ],
      "execution_count": 0,
      "outputs": []
    },
    {
      "cell_type": "markdown",
      "metadata": {
        "id": "7P2MY2psl7wr",
        "colab_type": "text"
      },
      "source": [
        "# Enable GPU"
      ]
    },
    {
      "cell_type": "code",
      "metadata": {
        "id": "v7_4wRobWEoG",
        "colab_type": "code",
        "outputId": "e51327df-4c89-4691-c46a-27ab4e23e213",
        "colab": {
          "base_uri": "https://localhost:8080/",
          "height": 34
        }
      },
      "source": [
        "import tensorflow as tf\n",
        "tf.config.list_physical_devices('GPU')"
      ],
      "execution_count": 6,
      "outputs": [
        {
          "output_type": "execute_result",
          "data": {
            "text/plain": [
              "[PhysicalDevice(name='/physical_device:GPU:0', device_type='GPU')]"
            ]
          },
          "metadata": {
            "tags": []
          },
          "execution_count": 6
        }
      ]
    },
    {
      "cell_type": "markdown",
      "metadata": {
        "id": "6Fw-gDhxl_Ob",
        "colab_type": "text"
      },
      "source": [
        "# Training Binary Classifier for hats"
      ]
    },
    {
      "cell_type": "code",
      "metadata": {
        "id": "YyIijM36cgAf",
        "colab_type": "code",
        "colab": {}
      },
      "source": [
        ""
      ],
      "execution_count": 0,
      "outputs": []
    },
    {
      "cell_type": "code",
      "metadata": {
        "id": "PQZ27erLQ_C9",
        "colab_type": "code",
        "outputId": "3202cc5d-a0dc-4836-9685-d96fcfea6fbb",
        "colab": {
          "base_uri": "https://localhost:8080/",
          "height": 909
        }
      },
      "source": [
        "from keras.models import Sequential\n",
        "from keras.layers import Dense, Dropout, Flatten\n",
        "from keras.layers import Conv2D, MaxPooling2D\n",
        "import keras.losses\n",
        "import keras.optimizers\n",
        "import numpy as np\n",
        "\n",
        "from sklearn.model_selection import train_test_split\n",
        "from keras.layers import Dense,GlobalAveragePooling2D\n",
        "from keras.applications import MobileNet\n",
        "\n",
        "def hatmodel(input_shape, num_classes, verbose=False):\n",
        "    model = Sequential()\n",
        "    model.add(keras.applications.mobilenet.MobileNet(weights='imagenet',include_top=False))\n",
        "    model.add(GlobalAveragePooling2D())\n",
        "    model.add(Dense(64, activation='relu')) # 64\n",
        "    model.add(Dropout(0.5))\n",
        "    model.add(Dense(256, activation='relu')) # 128\n",
        "    model.add(Dropout(0.5))\n",
        "    model.add(Dense(1024, activation='relu')) #256\n",
        "    model.add(Dropout(0.5))\n",
        "    model.add(Dense(num_classes, activation='softmax'))\n",
        "\n",
        "    model.layers[0].trainable=False\n",
        "\n",
        "    model.summary()\n",
        "    model.compile(loss=keras.losses.categorical_crossentropy,\n",
        "                  optimizer=keras.optimizers.Adam(),\n",
        "                  metrics=['accuracy'])\n",
        "\n",
        "    if verbose:\n",
        "        model.summary()\n",
        "\n",
        "    return model\n",
        "\n",
        "\n",
        "if __name__ == '__main__':\n",
        "    dims = (224, 224, 3)\n",
        "    onehotclasses = 2\n",
        "    epochs = 10\n",
        "    mdl = hatmodel(dims, onehotclasses)?authuser\n",
        "\n",
        "    train_gen, val_gen = load('gdrive/My Drive/mimhats/dataset/', (224,224))\n",
        "\n",
        "\n",
        "    mdl.fit_generator(\n",
        "        generator=train_gen,\n",
        "        validation_data=val_gen,\n",
        "        epochs=epochs,\n",
        "        verbose=True\n",
        "    )\n"
      ],
      "execution_count": 8,
      "outputs": [
        {
          "output_type": "stream",
          "text": [
            "/usr/local/lib/python3.6/dist-packages/keras_applications/mobilenet.py:207: UserWarning: `input_shape` is undefined or non-square, or `rows` is not in [128, 160, 192, 224]. Weights for input shape (224, 224) will be loaded as the default.\n",
            "  warnings.warn('`input_shape` is undefined or non-square, '\n"
          ],
          "name": "stderr"
        },
        {
          "output_type": "stream",
          "text": [
            "Model: \"sequential_2\"\n",
            "_________________________________________________________________\n",
            "Layer (type)                 Output Shape              Param #   \n",
            "=================================================================\n",
            "mobilenet_1.00_224 (Model)   (None, None, None, 1024)  3228864   \n",
            "_________________________________________________________________\n",
            "global_average_pooling2d_2 ( (None, 1024)              0         \n",
            "_________________________________________________________________\n",
            "dense_5 (Dense)              (None, 64)                65600     \n",
            "_________________________________________________________________\n",
            "dropout_4 (Dropout)          (None, 64)                0         \n",
            "_________________________________________________________________\n",
            "dense_6 (Dense)              (None, 256)               16640     \n",
            "_________________________________________________________________\n",
            "dropout_5 (Dropout)          (None, 256)               0         \n",
            "_________________________________________________________________\n",
            "dense_7 (Dense)              (None, 1024)              263168    \n",
            "_________________________________________________________________\n",
            "dropout_6 (Dropout)          (None, 1024)              0         \n",
            "_________________________________________________________________\n",
            "dense_8 (Dense)              (None, 2)                 2050      \n",
            "=================================================================\n",
            "Total params: 3,576,322\n",
            "Trainable params: 347,458\n",
            "Non-trainable params: 3,228,864\n",
            "_________________________________________________________________\n",
            "batchsize 32\n",
            "Found 6584 images belonging to 2 classes.\n",
            "Found 1030 images belonging to 2 classes.\n",
            "Epoch 1/10\n",
            "206/206 [==============================] - 2623s 13s/step - loss: 0.2313 - accuracy: 0.9029 - val_loss: 0.0829 - val_accuracy: 0.8854\n",
            "Epoch 2/10\n",
            "206/206 [==============================] - 129s 625ms/step - loss: 0.1475 - accuracy: 0.9499 - val_loss: 0.0187 - val_accuracy: 0.8709\n",
            "Epoch 3/10\n",
            "206/206 [==============================] - 130s 629ms/step - loss: 0.1128 - accuracy: 0.9617 - val_loss: 0.0457 - val_accuracy: 0.8796\n",
            "Epoch 4/10\n",
            "206/206 [==============================] - 130s 629ms/step - loss: 0.1021 - accuracy: 0.9623 - val_loss: 0.0169 - val_accuracy: 0.8641\n",
            "Epoch 5/10\n",
            "206/206 [==============================] - 130s 633ms/step - loss: 0.0978 - accuracy: 0.9658 - val_loss: 0.0276 - val_accuracy: 0.8757\n",
            "Epoch 6/10\n",
            "206/206 [==============================] - 129s 627ms/step - loss: 0.0833 - accuracy: 0.9686 - val_loss: 0.2371 - val_accuracy: 0.8806\n",
            "Epoch 7/10\n",
            "206/206 [==============================] - 130s 632ms/step - loss: 0.0830 - accuracy: 0.9724 - val_loss: 0.6721 - val_accuracy: 0.8670\n",
            "Epoch 8/10\n",
            "206/206 [==============================] - 132s 641ms/step - loss: 0.0903 - accuracy: 0.9693 - val_loss: 0.3528 - val_accuracy: 0.8786\n",
            "Epoch 9/10\n",
            "206/206 [==============================] - 130s 630ms/step - loss: 0.0784 - accuracy: 0.9727 - val_loss: 0.0695 - val_accuracy: 0.8660\n",
            "Epoch 10/10\n",
            "206/206 [==============================] - 132s 641ms/step - loss: 0.0769 - accuracy: 0.9734 - val_loss: 0.1483 - val_accuracy: 0.8874\n"
          ],
          "name": "stdout"
        }
      ]
    },
    {
      "cell_type": "markdown",
      "metadata": {
        "id": "xTaMBtDrlnXr",
        "colab_type": "text"
      },
      "source": [
        "# Save weight & architecture"
      ]
    },
    {
      "cell_type": "code",
      "metadata": {
        "id": "nTG1xgogTMwU",
        "colab_type": "code",
        "colab": {}
      },
      "source": [
        "mdl.save('mimuw_hats_classifier.h5')"
      ],
      "execution_count": 0,
      "outputs": []
    }
  ]
}